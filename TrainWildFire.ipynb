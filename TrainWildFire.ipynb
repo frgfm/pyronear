{
 "cells": [
  {
   "cell_type": "code",
   "execution_count": 0,
   "metadata": {
    "colab": {},
    "colab_type": "code",
    "id": "aHUmBHlCyuqO"
   },
   "outputs": [],
   "source": [
    "import numpy as np\n",
    "import pandas as pd\n",
    "import math\n",
    "from pathlib import Path\n",
    "from torch.optim.lr_scheduler import OneCycleLR\n",
    "import os\n",
    "import random\n",
    "from torch.utils.data import DataLoader\n",
    "import torch\n",
    "from torch import nn\n",
    "from torch import optim\n",
    "import torchvision\n",
    "from torchvision import transforms\n",
    "from fastprogress import master_bar, progress_bar\n",
    "import torch.nn.functional as F\n",
    "from torch.autograd import Variable\n",
    "import torch.utils.data as data\n",
    "from torch.utils.data.sampler import Sampler\n",
    "import matplotlib.pyplot as plt\n",
    "from torch.utils.data.dataset import Dataset\n",
    "import PIL\n"
   ]
  },
  {
   "cell_type": "code",
   "execution_count": 0,
   "metadata": {
    "colab": {},
    "colab_type": "code",
    "id": "aY1cRPbdyuqh"
   },
   "outputs": [],
   "source": [
    "from pyronear.datasets.wildfire import (WildFireDataset,\n",
    "                                        WildFireSplitter,FireLabeler)\n",
    "from pyronear.datasets.wildfire.split_strategy import *"
   ]
  },
  {
   "cell_type": "code",
   "execution_count": 0,
   "metadata": {
    "colab": {},
    "colab_type": "code",
    "id": "hX8NieGUyuqt"
   },
   "outputs": [],
   "source": [
    "torch.cuda.empty_cache()"
   ]
  },
  {
   "cell_type": "code",
   "execution_count": 1,
   "metadata": {
    "colab": {
     "base_uri": "https://localhost:8080/",
     "height": 124
    },
    "colab_type": "code",
    "executionInfo": {
     "elapsed": 27158,
     "status": "ok",
     "timestamp": 1586782027718,
     "user": {
      "displayName": "Mateo Lostanlen",
      "photoUrl": "https://lh3.googleusercontent.com/a-/AOh14GhiMj9rYp8uTEqohMyR6BMqG5Q7nffxkuE6YdGF6A=s64",
      "userId": "07227433961920464350"
     },
     "user_tz": -120
    },
    "id": "NOuFGfyFyuq4",
    "outputId": "e9dc86eb-1116-46d2-8178-88d9989e080a"
   },
   "outputs": [
    {
     "name": "stdout",
     "output_type": "stream",
     "text": [
      "Go to this URL in a browser: https://accounts.google.com/o/oauth2/auth?client_id=947318989803-6bn6qk8qdgf4n4g3pfee6491hc0brc4i.apps.googleusercontent.com&redirect_uri=urn%3aietf%3awg%3aoauth%3a2.0%3aoob&response_type=code&scope=email%20https%3a%2f%2fwww.googleapis.com%2fauth%2fdocs.test%20https%3a%2f%2fwww.googleapis.com%2fauth%2fdrive%20https%3a%2f%2fwww.googleapis.com%2fauth%2fdrive.photos.readonly%20https%3a%2f%2fwww.googleapis.com%2fauth%2fpeopleapi.readonly\n",
      "\n",
      "Enter your authorization code:\n",
      "··········\n",
      "Mounted at /content/drive\n"
     ]
    }
   ],
   "source": [
    "from google.colab import drive\n",
    "drive.mount('/content/drive')"
   ]
  },
  {
   "cell_type": "code",
   "execution_count": 2,
   "metadata": {
    "colab": {
     "base_uri": "https://localhost:8080/",
     "height": 69
    },
    "colab_type": "code",
    "executionInfo": {
     "elapsed": 9798,
     "status": "ok",
     "timestamp": 1586782031242,
     "user": {
      "displayName": "Mateo Lostanlen",
      "photoUrl": "https://lh3.googleusercontent.com/a-/AOh14GhiMj9rYp8uTEqohMyR6BMqG5Q7nffxkuE6YdGF6A=s64",
      "userId": "07227433961920464350"
     },
     "user_tz": -120
    },
    "id": "5_tf6XrMyurE",
    "outputId": "1818bc62-2065-4746-cae9-429a71aef3b3"
   },
   "outputs": [
    {
     "name": "stdout",
     "output_type": "stream",
     "text": [
      "CONTRIBUTING.md  LICENSE    references\t      test\n",
      "CreateDS.ipynb\t pyronear   requirements.txt  TrainWildFire.ipynb\n",
      "docs\t\t README.md  setup.py\t      TrainWildFire_SubSampler.ipynb\n"
     ]
    }
   ],
   "source": [
    "  import os\n",
    "os.chdir(\"drive/My Drive/DeepLearning/Pyronear/git/PyroNear\")\n",
    "!ls"
   ]
  },
  {
   "cell_type": "code",
   "execution_count": 5,
   "metadata": {
    "colab": {
     "base_uri": "https://localhost:8080/",
     "height": 208
    },
    "colab_type": "code",
    "executionInfo": {
     "elapsed": 3169,
     "status": "ok",
     "timestamp": 1586782051849,
     "user": {
      "displayName": "Mateo Lostanlen",
      "photoUrl": "https://lh3.googleusercontent.com/a-/AOh14GhiMj9rYp8uTEqohMyR6BMqG5Q7nffxkuE6YdGF6A=s64",
      "userId": "07227433961920464350"
     },
     "user_tz": -120
    },
    "id": "F5RJJSOIyurP",
    "outputId": "43df2886-51e8-4fdf-ecd4-3deb56917c28"
   },
   "outputs": [
    {
     "name": "stdout",
     "output_type": "stream",
     "text": [
      " Clean_checkedLabels.ipynb   GetFrame.ipynb\t\t   TrainModel.ipynb\n",
      " CreateDataset.ipynb\t     git\t\t\t   TrainModelToy.ipynb\n",
      " customDSTest.ipynb\t     PR\t\t\t\t   TrainOldDS.ipynb\n",
      " DB\t\t\t    'TrainFastAi[Conflit].ipynb'   TrainOldDSToy.ipynb\n",
      " dfToy.csv\t\t     TrainFastAi.ipynb\t\t   TrainWild.ipynb\n",
      " dfToyEasy.csv\t\t     TrainFGLoop2.ipynb\t\t   videoanalysis\n",
      " dict2.txt\t\t     TrainFGLoop_bce.ipynb\t   WF.csv\n",
      " dict_Old.txt\t\t     TrainFGLoop.ipynb\t\t   wildfire.csv\n",
      " dict.txt\t\t     TrainFGLoop_old.ipynb\t   WildfireDS.csv\n",
      " dict_wild.txt\t\t     TrainFGLoop_oldToy.ipynb\t  'WildFire DS.ipynb'\n",
      " EasyDS.ipynb\t\t    'TrainModel[Conflit].ipynb'\n"
     ]
    }
   ],
   "source": [
    "os.chdir(\"..\")\n",
    "os.chdir(\"..\")\n",
    "!ls\n"
   ]
  },
  {
   "cell_type": "code",
   "execution_count": 7,
   "metadata": {
    "colab": {
     "base_uri": "https://localhost:8080/",
     "height": 453
    },
    "colab_type": "code",
    "executionInfo": {
     "elapsed": 1359,
     "status": "ok",
     "timestamp": 1586784072270,
     "user": {
      "displayName": "Mateo Lostanlen",
      "photoUrl": "https://lh3.googleusercontent.com/a-/AOh14GhiMj9rYp8uTEqohMyR6BMqG5Q7nffxkuE6YdGF6A=s64",
      "userId": "07227433961920464350"
     },
     "user_tz": -120
    },
    "id": "NXgAhiYdyura",
    "outputId": "79999967-a675-4cde-cca8-77f32f21e5c8"
   },
   "outputs": [
    {
     "data": {
      "text/html": [
       "<div>\n",
       "<style scoped>\n",
       "    .dataframe tbody tr th:only-of-type {\n",
       "        vertical-align: middle;\n",
       "    }\n",
       "\n",
       "    .dataframe tbody tr th {\n",
       "        vertical-align: top;\n",
       "    }\n",
       "\n",
       "    .dataframe thead th {\n",
       "        text-align: right;\n",
       "    }\n",
       "</style>\n",
       "<table border=\"1\" class=\"dataframe\">\n",
       "  <thead>\n",
       "    <tr style=\"text-align: right;\">\n",
       "      <th></th>\n",
       "      <th>Unnamed: 0</th>\n",
       "      <th>Unnamed: 0.1</th>\n",
       "      <th>exploitable</th>\n",
       "      <th>fire</th>\n",
       "      <th>sequence</th>\n",
       "      <th>clf_confidence</th>\n",
       "      <th>loc_confidence</th>\n",
       "      <th>x</th>\n",
       "      <th>y</th>\n",
       "      <th>t</th>\n",
       "      <th>stateStart</th>\n",
       "      <th>stateEnd</th>\n",
       "      <th>frame</th>\n",
       "      <th>imgFile</th>\n",
       "      <th>fire_id</th>\n",
       "      <th>fBase</th>\n",
       "    </tr>\n",
       "  </thead>\n",
       "  <tbody>\n",
       "    <tr>\n",
       "      <th>0</th>\n",
       "      <td>0</td>\n",
       "      <td>0</td>\n",
       "      <td>True</td>\n",
       "      <td>True</td>\n",
       "      <td>0</td>\n",
       "      <td>True</td>\n",
       "      <td>True</td>\n",
       "      <td>742.268</td>\n",
       "      <td>417.155</td>\n",
       "      <td>0.005</td>\n",
       "      <td>0.0</td>\n",
       "      <td>151.0</td>\n",
       "      <td>14</td>\n",
       "      <td>108_frame14.png</td>\n",
       "      <td>20</td>\n",
       "      <td>108</td>\n",
       "    </tr>\n",
       "    <tr>\n",
       "      <th>1</th>\n",
       "      <td>1</td>\n",
       "      <td>1</td>\n",
       "      <td>True</td>\n",
       "      <td>True</td>\n",
       "      <td>0</td>\n",
       "      <td>True</td>\n",
       "      <td>True</td>\n",
       "      <td>742.268</td>\n",
       "      <td>417.155</td>\n",
       "      <td>0.005</td>\n",
       "      <td>0.0</td>\n",
       "      <td>151.0</td>\n",
       "      <td>71</td>\n",
       "      <td>108_frame71.png</td>\n",
       "      <td>20</td>\n",
       "      <td>108</td>\n",
       "    </tr>\n",
       "    <tr>\n",
       "      <th>2</th>\n",
       "      <td>2</td>\n",
       "      <td>2</td>\n",
       "      <td>True</td>\n",
       "      <td>True</td>\n",
       "      <td>0</td>\n",
       "      <td>True</td>\n",
       "      <td>True</td>\n",
       "      <td>742.268</td>\n",
       "      <td>417.155</td>\n",
       "      <td>0.005</td>\n",
       "      <td>0.0</td>\n",
       "      <td>151.0</td>\n",
       "      <td>92</td>\n",
       "      <td>108_frame92.png</td>\n",
       "      <td>20</td>\n",
       "      <td>108</td>\n",
       "    </tr>\n",
       "    <tr>\n",
       "      <th>3</th>\n",
       "      <td>3</td>\n",
       "      <td>3</td>\n",
       "      <td>True</td>\n",
       "      <td>True</td>\n",
       "      <td>0</td>\n",
       "      <td>True</td>\n",
       "      <td>True</td>\n",
       "      <td>742.268</td>\n",
       "      <td>417.155</td>\n",
       "      <td>0.005</td>\n",
       "      <td>0.0</td>\n",
       "      <td>151.0</td>\n",
       "      <td>102</td>\n",
       "      <td>108_frame102.png</td>\n",
       "      <td>20</td>\n",
       "      <td>108</td>\n",
       "    </tr>\n",
       "    <tr>\n",
       "      <th>4</th>\n",
       "      <td>4</td>\n",
       "      <td>4</td>\n",
       "      <td>True</td>\n",
       "      <td>True</td>\n",
       "      <td>0</td>\n",
       "      <td>True</td>\n",
       "      <td>True</td>\n",
       "      <td>742.268</td>\n",
       "      <td>417.155</td>\n",
       "      <td>0.005</td>\n",
       "      <td>0.0</td>\n",
       "      <td>151.0</td>\n",
       "      <td>106</td>\n",
       "      <td>108_frame106.png</td>\n",
       "      <td>20</td>\n",
       "      <td>108</td>\n",
       "    </tr>\n",
       "    <tr>\n",
       "      <th>...</th>\n",
       "      <td>...</td>\n",
       "      <td>...</td>\n",
       "      <td>...</td>\n",
       "      <td>...</td>\n",
       "      <td>...</td>\n",
       "      <td>...</td>\n",
       "      <td>...</td>\n",
       "      <td>...</td>\n",
       "      <td>...</td>\n",
       "      <td>...</td>\n",
       "      <td>...</td>\n",
       "      <td>...</td>\n",
       "      <td>...</td>\n",
       "      <td>...</td>\n",
       "      <td>...</td>\n",
       "      <td>...</td>\n",
       "    </tr>\n",
       "    <tr>\n",
       "      <th>10830</th>\n",
       "      <td>10955</td>\n",
       "      <td>10955</td>\n",
       "      <td>True</td>\n",
       "      <td>True</td>\n",
       "      <td>0</td>\n",
       "      <td>False</td>\n",
       "      <td>True</td>\n",
       "      <td>483.725</td>\n",
       "      <td>341.641</td>\n",
       "      <td>2.353</td>\n",
       "      <td>1333.0</td>\n",
       "      <td>1501.0</td>\n",
       "      <td>1347</td>\n",
       "      <td>86_frame1347.png</td>\n",
       "      <td>164</td>\n",
       "      <td>86</td>\n",
       "    </tr>\n",
       "    <tr>\n",
       "      <th>10831</th>\n",
       "      <td>10956</td>\n",
       "      <td>10956</td>\n",
       "      <td>True</td>\n",
       "      <td>True</td>\n",
       "      <td>0</td>\n",
       "      <td>False</td>\n",
       "      <td>True</td>\n",
       "      <td>483.725</td>\n",
       "      <td>341.641</td>\n",
       "      <td>2.353</td>\n",
       "      <td>1333.0</td>\n",
       "      <td>1501.0</td>\n",
       "      <td>1404</td>\n",
       "      <td>86_frame1404.png</td>\n",
       "      <td>164</td>\n",
       "      <td>86</td>\n",
       "    </tr>\n",
       "    <tr>\n",
       "      <th>10832</th>\n",
       "      <td>10957</td>\n",
       "      <td>10957</td>\n",
       "      <td>True</td>\n",
       "      <td>True</td>\n",
       "      <td>0</td>\n",
       "      <td>False</td>\n",
       "      <td>True</td>\n",
       "      <td>483.725</td>\n",
       "      <td>341.641</td>\n",
       "      <td>2.353</td>\n",
       "      <td>1333.0</td>\n",
       "      <td>1501.0</td>\n",
       "      <td>1425</td>\n",
       "      <td>86_frame1425.png</td>\n",
       "      <td>164</td>\n",
       "      <td>86</td>\n",
       "    </tr>\n",
       "    <tr>\n",
       "      <th>10833</th>\n",
       "      <td>10958</td>\n",
       "      <td>10958</td>\n",
       "      <td>True</td>\n",
       "      <td>True</td>\n",
       "      <td>0</td>\n",
       "      <td>False</td>\n",
       "      <td>True</td>\n",
       "      <td>483.725</td>\n",
       "      <td>341.641</td>\n",
       "      <td>2.353</td>\n",
       "      <td>1333.0</td>\n",
       "      <td>1501.0</td>\n",
       "      <td>1435</td>\n",
       "      <td>86_frame1435.png</td>\n",
       "      <td>164</td>\n",
       "      <td>86</td>\n",
       "    </tr>\n",
       "    <tr>\n",
       "      <th>10834</th>\n",
       "      <td>10959</td>\n",
       "      <td>10959</td>\n",
       "      <td>True</td>\n",
       "      <td>True</td>\n",
       "      <td>0</td>\n",
       "      <td>False</td>\n",
       "      <td>True</td>\n",
       "      <td>483.725</td>\n",
       "      <td>341.641</td>\n",
       "      <td>2.353</td>\n",
       "      <td>1333.0</td>\n",
       "      <td>1501.0</td>\n",
       "      <td>1439</td>\n",
       "      <td>86_frame1439.png</td>\n",
       "      <td>164</td>\n",
       "      <td>86</td>\n",
       "    </tr>\n",
       "  </tbody>\n",
       "</table>\n",
       "<p>10835 rows × 16 columns</p>\n",
       "</div>"
      ],
      "text/plain": [
       "       Unnamed: 0  Unnamed: 0.1  exploitable  ...           imgFile  fire_id  fBase\n",
       "0               0             0         True  ...   108_frame14.png       20    108\n",
       "1               1             1         True  ...   108_frame71.png       20    108\n",
       "2               2             2         True  ...   108_frame92.png       20    108\n",
       "3               3             3         True  ...  108_frame102.png       20    108\n",
       "4               4             4         True  ...  108_frame106.png       20    108\n",
       "...           ...           ...          ...  ...               ...      ...    ...\n",
       "10830       10955         10955         True  ...  86_frame1347.png      164     86\n",
       "10831       10956         10956         True  ...  86_frame1404.png      164     86\n",
       "10832       10957         10957         True  ...  86_frame1425.png      164     86\n",
       "10833       10958         10958         True  ...  86_frame1435.png      164     86\n",
       "10834       10959         10959         True  ...  86_frame1439.png      164     86\n",
       "\n",
       "[10835 rows x 16 columns]"
      ]
     },
     "execution_count": 7,
     "metadata": {
      "tags": []
     },
     "output_type": "execute_result"
    }
   ],
   "source": [
    "path_to_frames=Path(\"DB/Wildfire\")\n",
    "metadata=pd.read_csv(\"DB/Wildfire/metadata2.csv\")\n",
    "metadata"
   ]
  },
  {
   "cell_type": "code",
   "execution_count": 8,
   "metadata": {
    "colab": {
     "base_uri": "https://localhost:8080/",
     "height": 453
    },
    "colab_type": "code",
    "executionInfo": {
     "elapsed": 1022,
     "status": "ok",
     "timestamp": 1586784077303,
     "user": {
      "displayName": "Mateo Lostanlen",
      "photoUrl": "https://lh3.googleusercontent.com/a-/AOh14GhiMj9rYp8uTEqohMyR6BMqG5Q7nffxkuE6YdGF6A=s64",
      "userId": "07227433961920464350"
     },
     "user_tz": -120
    },
    "id": "GMyLhoRNk4FO",
    "outputId": "64c7dce0-b775-47ab-9690-71a6e764935c"
   },
   "outputs": [
    {
     "data": {
      "text/html": [
       "<div>\n",
       "<style scoped>\n",
       "    .dataframe tbody tr th:only-of-type {\n",
       "        vertical-align: middle;\n",
       "    }\n",
       "\n",
       "    .dataframe tbody tr th {\n",
       "        vertical-align: top;\n",
       "    }\n",
       "\n",
       "    .dataframe thead th {\n",
       "        text-align: right;\n",
       "    }\n",
       "</style>\n",
       "<table border=\"1\" class=\"dataframe\">\n",
       "  <thead>\n",
       "    <tr style=\"text-align: right;\">\n",
       "      <th></th>\n",
       "      <th>Unnamed: 0</th>\n",
       "      <th>Unnamed: 0.1</th>\n",
       "      <th>exploitable</th>\n",
       "      <th>fire</th>\n",
       "      <th>sequence</th>\n",
       "      <th>clf_confidence</th>\n",
       "      <th>loc_confidence</th>\n",
       "      <th>x</th>\n",
       "      <th>y</th>\n",
       "      <th>t</th>\n",
       "      <th>stateStart</th>\n",
       "      <th>stateEnd</th>\n",
       "      <th>frame</th>\n",
       "      <th>imgFile</th>\n",
       "      <th>fire_id</th>\n",
       "      <th>fBase</th>\n",
       "    </tr>\n",
       "  </thead>\n",
       "  <tbody>\n",
       "    <tr>\n",
       "      <th>0</th>\n",
       "      <td>0</td>\n",
       "      <td>0</td>\n",
       "      <td>True</td>\n",
       "      <td>True</td>\n",
       "      <td>0</td>\n",
       "      <td>True</td>\n",
       "      <td>True</td>\n",
       "      <td>742.268</td>\n",
       "      <td>417.155</td>\n",
       "      <td>0.005</td>\n",
       "      <td>0.0</td>\n",
       "      <td>151.0</td>\n",
       "      <td>14</td>\n",
       "      <td>108_frame14.png</td>\n",
       "      <td>20</td>\n",
       "      <td>108</td>\n",
       "    </tr>\n",
       "    <tr>\n",
       "      <th>1</th>\n",
       "      <td>1</td>\n",
       "      <td>1</td>\n",
       "      <td>True</td>\n",
       "      <td>True</td>\n",
       "      <td>0</td>\n",
       "      <td>True</td>\n",
       "      <td>True</td>\n",
       "      <td>742.268</td>\n",
       "      <td>417.155</td>\n",
       "      <td>0.005</td>\n",
       "      <td>0.0</td>\n",
       "      <td>151.0</td>\n",
       "      <td>71</td>\n",
       "      <td>108_frame71.png</td>\n",
       "      <td>20</td>\n",
       "      <td>108</td>\n",
       "    </tr>\n",
       "    <tr>\n",
       "      <th>2</th>\n",
       "      <td>2</td>\n",
       "      <td>2</td>\n",
       "      <td>True</td>\n",
       "      <td>True</td>\n",
       "      <td>0</td>\n",
       "      <td>True</td>\n",
       "      <td>True</td>\n",
       "      <td>742.268</td>\n",
       "      <td>417.155</td>\n",
       "      <td>0.005</td>\n",
       "      <td>0.0</td>\n",
       "      <td>151.0</td>\n",
       "      <td>92</td>\n",
       "      <td>108_frame92.png</td>\n",
       "      <td>20</td>\n",
       "      <td>108</td>\n",
       "    </tr>\n",
       "    <tr>\n",
       "      <th>3</th>\n",
       "      <td>3</td>\n",
       "      <td>3</td>\n",
       "      <td>True</td>\n",
       "      <td>True</td>\n",
       "      <td>0</td>\n",
       "      <td>True</td>\n",
       "      <td>True</td>\n",
       "      <td>742.268</td>\n",
       "      <td>417.155</td>\n",
       "      <td>0.005</td>\n",
       "      <td>0.0</td>\n",
       "      <td>151.0</td>\n",
       "      <td>102</td>\n",
       "      <td>108_frame102.png</td>\n",
       "      <td>20</td>\n",
       "      <td>108</td>\n",
       "    </tr>\n",
       "    <tr>\n",
       "      <th>4</th>\n",
       "      <td>4</td>\n",
       "      <td>4</td>\n",
       "      <td>True</td>\n",
       "      <td>True</td>\n",
       "      <td>0</td>\n",
       "      <td>True</td>\n",
       "      <td>True</td>\n",
       "      <td>742.268</td>\n",
       "      <td>417.155</td>\n",
       "      <td>0.005</td>\n",
       "      <td>0.0</td>\n",
       "      <td>151.0</td>\n",
       "      <td>106</td>\n",
       "      <td>108_frame106.png</td>\n",
       "      <td>20</td>\n",
       "      <td>108</td>\n",
       "    </tr>\n",
       "    <tr>\n",
       "      <th>...</th>\n",
       "      <td>...</td>\n",
       "      <td>...</td>\n",
       "      <td>...</td>\n",
       "      <td>...</td>\n",
       "      <td>...</td>\n",
       "      <td>...</td>\n",
       "      <td>...</td>\n",
       "      <td>...</td>\n",
       "      <td>...</td>\n",
       "      <td>...</td>\n",
       "      <td>...</td>\n",
       "      <td>...</td>\n",
       "      <td>...</td>\n",
       "      <td>...</td>\n",
       "      <td>...</td>\n",
       "      <td>...</td>\n",
       "    </tr>\n",
       "    <tr>\n",
       "      <th>10810</th>\n",
       "      <td>10935</td>\n",
       "      <td>10935</td>\n",
       "      <td>True</td>\n",
       "      <td>False</td>\n",
       "      <td>0</td>\n",
       "      <td>True</td>\n",
       "      <td>True</td>\n",
       "      <td>353.110</td>\n",
       "      <td>389.282</td>\n",
       "      <td>1.484</td>\n",
       "      <td>37.0</td>\n",
       "      <td>1328.0</td>\n",
       "      <td>897</td>\n",
       "      <td>758_frame897.png</td>\n",
       "      <td>100</td>\n",
       "      <td>758</td>\n",
       "    </tr>\n",
       "    <tr>\n",
       "      <th>10811</th>\n",
       "      <td>10936</td>\n",
       "      <td>10936</td>\n",
       "      <td>True</td>\n",
       "      <td>False</td>\n",
       "      <td>0</td>\n",
       "      <td>True</td>\n",
       "      <td>True</td>\n",
       "      <td>353.110</td>\n",
       "      <td>389.282</td>\n",
       "      <td>1.484</td>\n",
       "      <td>37.0</td>\n",
       "      <td>1328.0</td>\n",
       "      <td>1081</td>\n",
       "      <td>758_frame1081.png</td>\n",
       "      <td>100</td>\n",
       "      <td>758</td>\n",
       "    </tr>\n",
       "    <tr>\n",
       "      <th>10812</th>\n",
       "      <td>10937</td>\n",
       "      <td>10937</td>\n",
       "      <td>True</td>\n",
       "      <td>False</td>\n",
       "      <td>0</td>\n",
       "      <td>True</td>\n",
       "      <td>True</td>\n",
       "      <td>353.110</td>\n",
       "      <td>389.282</td>\n",
       "      <td>1.484</td>\n",
       "      <td>37.0</td>\n",
       "      <td>1328.0</td>\n",
       "      <td>1132</td>\n",
       "      <td>758_frame1132.png</td>\n",
       "      <td>100</td>\n",
       "      <td>758</td>\n",
       "    </tr>\n",
       "    <tr>\n",
       "      <th>10813</th>\n",
       "      <td>10938</td>\n",
       "      <td>10938</td>\n",
       "      <td>True</td>\n",
       "      <td>False</td>\n",
       "      <td>0</td>\n",
       "      <td>True</td>\n",
       "      <td>True</td>\n",
       "      <td>353.110</td>\n",
       "      <td>389.282</td>\n",
       "      <td>1.484</td>\n",
       "      <td>37.0</td>\n",
       "      <td>1328.0</td>\n",
       "      <td>1163</td>\n",
       "      <td>758_frame1163.png</td>\n",
       "      <td>100</td>\n",
       "      <td>758</td>\n",
       "    </tr>\n",
       "    <tr>\n",
       "      <th>10814</th>\n",
       "      <td>10939</td>\n",
       "      <td>10939</td>\n",
       "      <td>True</td>\n",
       "      <td>False</td>\n",
       "      <td>0</td>\n",
       "      <td>True</td>\n",
       "      <td>True</td>\n",
       "      <td>353.110</td>\n",
       "      <td>389.282</td>\n",
       "      <td>1.484</td>\n",
       "      <td>37.0</td>\n",
       "      <td>1328.0</td>\n",
       "      <td>1167</td>\n",
       "      <td>758_frame1167.png</td>\n",
       "      <td>100</td>\n",
       "      <td>758</td>\n",
       "    </tr>\n",
       "  </tbody>\n",
       "</table>\n",
       "<p>9235 rows × 16 columns</p>\n",
       "</div>"
      ],
      "text/plain": [
       "       Unnamed: 0  Unnamed: 0.1  exploitable  ...            imgFile  fire_id  fBase\n",
       "0               0             0         True  ...    108_frame14.png       20    108\n",
       "1               1             1         True  ...    108_frame71.png       20    108\n",
       "2               2             2         True  ...    108_frame92.png       20    108\n",
       "3               3             3         True  ...   108_frame102.png       20    108\n",
       "4               4             4         True  ...   108_frame106.png       20    108\n",
       "...           ...           ...          ...  ...                ...      ...    ...\n",
       "10810       10935         10935         True  ...   758_frame897.png      100    758\n",
       "10811       10936         10936         True  ...  758_frame1081.png      100    758\n",
       "10812       10937         10937         True  ...  758_frame1132.png      100    758\n",
       "10813       10938         10938         True  ...  758_frame1163.png      100    758\n",
       "10814       10939         10939         True  ...  758_frame1167.png      100    758\n",
       "\n",
       "[9235 rows x 16 columns]"
      ]
     },
     "execution_count": 8,
     "metadata": {
      "tags": []
     },
     "output_type": "execute_result"
    }
   ],
   "source": [
    "metadata=metadata[metadata['clf_confidence']==True]\n",
    "metadata"
   ]
  },
  {
   "cell_type": "code",
   "execution_count": 9,
   "metadata": {
    "colab": {
     "base_uri": "https://localhost:8080/",
     "height": 35
    },
    "colab_type": "code",
    "executionInfo": {
     "elapsed": 1011,
     "status": "ok",
     "timestamp": 1586784092962,
     "user": {
      "displayName": "Mateo Lostanlen",
      "photoUrl": "https://lh3.googleusercontent.com/a-/AOh14GhiMj9rYp8uTEqohMyR6BMqG5Q7nffxkuE6YdGF6A=s64",
      "userId": "07227433961920464350"
     },
     "user_tz": -120
    },
    "id": "MMeSm57Lyurs",
    "outputId": "deed8899-b6f1-4f00-b0c3-63093399ade8"
   },
   "outputs": [
    {
     "data": {
      "text/plain": [
       "1.9838449111470113"
      ]
     },
     "execution_count": 9,
     "metadata": {
      "tags": []
     },
     "output_type": "execute_result"
    }
   ],
   "source": [
    "#equalize dataset\n",
    "ratio=len(metadata[metadata['fire']==True])/len(metadata[metadata['fire']==False])\n",
    "ratio"
   ]
  },
  {
   "cell_type": "code",
   "execution_count": 10,
   "metadata": {
    "colab": {
     "base_uri": "https://localhost:8080/",
     "height": 453
    },
    "colab_type": "code",
    "executionInfo": {
     "elapsed": 989,
     "status": "ok",
     "timestamp": 1586784095290,
     "user": {
      "displayName": "Mateo Lostanlen",
      "photoUrl": "https://lh3.googleusercontent.com/a-/AOh14GhiMj9rYp8uTEqohMyR6BMqG5Q7nffxkuE6YdGF6A=s64",
      "userId": "07227433961920464350"
     },
     "user_tz": -120
    },
    "id": "0GYxdMyCyury",
    "outputId": "619c0e63-08bb-4d25-d33d-d7ed9e6384a2"
   },
   "outputs": [
    {
     "data": {
      "text/html": [
       "<div>\n",
       "<style scoped>\n",
       "    .dataframe tbody tr th:only-of-type {\n",
       "        vertical-align: middle;\n",
       "    }\n",
       "\n",
       "    .dataframe tbody tr th {\n",
       "        vertical-align: top;\n",
       "    }\n",
       "\n",
       "    .dataframe thead th {\n",
       "        text-align: right;\n",
       "    }\n",
       "</style>\n",
       "<table border=\"1\" class=\"dataframe\">\n",
       "  <thead>\n",
       "    <tr style=\"text-align: right;\">\n",
       "      <th></th>\n",
       "      <th>Unnamed: 0</th>\n",
       "      <th>Unnamed: 0.1</th>\n",
       "      <th>exploitable</th>\n",
       "      <th>fire</th>\n",
       "      <th>sequence</th>\n",
       "      <th>clf_confidence</th>\n",
       "      <th>loc_confidence</th>\n",
       "      <th>x</th>\n",
       "      <th>y</th>\n",
       "      <th>t</th>\n",
       "      <th>stateStart</th>\n",
       "      <th>stateEnd</th>\n",
       "      <th>frame</th>\n",
       "      <th>imgFile</th>\n",
       "      <th>fire_id</th>\n",
       "      <th>fBase</th>\n",
       "    </tr>\n",
       "  </thead>\n",
       "  <tbody>\n",
       "    <tr>\n",
       "      <th>0</th>\n",
       "      <td>0</td>\n",
       "      <td>0</td>\n",
       "      <td>True</td>\n",
       "      <td>True</td>\n",
       "      <td>0</td>\n",
       "      <td>True</td>\n",
       "      <td>True</td>\n",
       "      <td>742.268</td>\n",
       "      <td>417.155</td>\n",
       "      <td>0.005</td>\n",
       "      <td>0.0</td>\n",
       "      <td>151.0</td>\n",
       "      <td>14</td>\n",
       "      <td>108_frame14.png</td>\n",
       "      <td>20</td>\n",
       "      <td>108</td>\n",
       "    </tr>\n",
       "    <tr>\n",
       "      <th>1</th>\n",
       "      <td>10</td>\n",
       "      <td>10</td>\n",
       "      <td>True</td>\n",
       "      <td>True</td>\n",
       "      <td>0</td>\n",
       "      <td>True</td>\n",
       "      <td>2</td>\n",
       "      <td>817.237</td>\n",
       "      <td>496.577</td>\n",
       "      <td>3.683</td>\n",
       "      <td>197.0</td>\n",
       "      <td>1500.0</td>\n",
       "      <td>1057</td>\n",
       "      <td>110_frame1057.png</td>\n",
       "      <td>171</td>\n",
       "      <td>110</td>\n",
       "    </tr>\n",
       "    <tr>\n",
       "      <th>2</th>\n",
       "      <td>15</td>\n",
       "      <td>15</td>\n",
       "      <td>True</td>\n",
       "      <td>True</td>\n",
       "      <td>0</td>\n",
       "      <td>True</td>\n",
       "      <td>True</td>\n",
       "      <td>585.649</td>\n",
       "      <td>514.392</td>\n",
       "      <td>0.087</td>\n",
       "      <td>2.0</td>\n",
       "      <td>1453.0</td>\n",
       "      <td>862</td>\n",
       "      <td>115_frame862.png</td>\n",
       "      <td>19</td>\n",
       "      <td>115</td>\n",
       "    </tr>\n",
       "    <tr>\n",
       "      <th>3</th>\n",
       "      <td>20</td>\n",
       "      <td>20</td>\n",
       "      <td>True</td>\n",
       "      <td>True</td>\n",
       "      <td>0</td>\n",
       "      <td>True</td>\n",
       "      <td>True</td>\n",
       "      <td>230.103</td>\n",
       "      <td>388.948</td>\n",
       "      <td>0.000</td>\n",
       "      <td>0.0</td>\n",
       "      <td>145.0</td>\n",
       "      <td>14</td>\n",
       "      <td>118_frame14.png</td>\n",
       "      <td>19</td>\n",
       "      <td>118</td>\n",
       "    </tr>\n",
       "    <tr>\n",
       "      <th>4</th>\n",
       "      <td>25</td>\n",
       "      <td>25</td>\n",
       "      <td>True</td>\n",
       "      <td>True</td>\n",
       "      <td>0</td>\n",
       "      <td>True</td>\n",
       "      <td>True</td>\n",
       "      <td>739.299</td>\n",
       "      <td>304.330</td>\n",
       "      <td>0.000</td>\n",
       "      <td>146.0</td>\n",
       "      <td>158.0</td>\n",
       "      <td>149</td>\n",
       "      <td>118_frame149.png</td>\n",
       "      <td>19</td>\n",
       "      <td>118</td>\n",
       "    </tr>\n",
       "    <tr>\n",
       "      <th>...</th>\n",
       "      <td>...</td>\n",
       "      <td>...</td>\n",
       "      <td>...</td>\n",
       "      <td>...</td>\n",
       "      <td>...</td>\n",
       "      <td>...</td>\n",
       "      <td>...</td>\n",
       "      <td>...</td>\n",
       "      <td>...</td>\n",
       "      <td>...</td>\n",
       "      <td>...</td>\n",
       "      <td>...</td>\n",
       "      <td>...</td>\n",
       "      <td>...</td>\n",
       "      <td>...</td>\n",
       "      <td>...</td>\n",
       "    </tr>\n",
       "    <tr>\n",
       "      <th>2462</th>\n",
       "      <td>10883</td>\n",
       "      <td>10883</td>\n",
       "      <td>True</td>\n",
       "      <td>False</td>\n",
       "      <td>0</td>\n",
       "      <td>True</td>\n",
       "      <td>True</td>\n",
       "      <td>664.880</td>\n",
       "      <td>380.670</td>\n",
       "      <td>1.580</td>\n",
       "      <td>39.0</td>\n",
       "      <td>1485.0</td>\n",
       "      <td>1169</td>\n",
       "      <td>635_frame1169.png</td>\n",
       "      <td>346</td>\n",
       "      <td>635</td>\n",
       "    </tr>\n",
       "    <tr>\n",
       "      <th>2463</th>\n",
       "      <td>10888</td>\n",
       "      <td>10888</td>\n",
       "      <td>True</td>\n",
       "      <td>False</td>\n",
       "      <td>0</td>\n",
       "      <td>True</td>\n",
       "      <td>True</td>\n",
       "      <td>738.947</td>\n",
       "      <td>328.995</td>\n",
       "      <td>11.548</td>\n",
       "      <td>289.0</td>\n",
       "      <td>1499.0</td>\n",
       "      <td>1415</td>\n",
       "      <td>640_frame1415.png</td>\n",
       "      <td>351</td>\n",
       "      <td>640</td>\n",
       "    </tr>\n",
       "    <tr>\n",
       "      <th>2464</th>\n",
       "      <td>10903</td>\n",
       "      <td>10903</td>\n",
       "      <td>True</td>\n",
       "      <td>False</td>\n",
       "      <td>0</td>\n",
       "      <td>True</td>\n",
       "      <td>True</td>\n",
       "      <td>1005.072</td>\n",
       "      <td>545.167</td>\n",
       "      <td>3.225</td>\n",
       "      <td>81.0</td>\n",
       "      <td>102.0</td>\n",
       "      <td>95</td>\n",
       "      <td>695_frame95.png</td>\n",
       "      <td>376</td>\n",
       "      <td>695</td>\n",
       "    </tr>\n",
       "    <tr>\n",
       "      <th>2465</th>\n",
       "      <td>10913</td>\n",
       "      <td>10913</td>\n",
       "      <td>True</td>\n",
       "      <td>False</td>\n",
       "      <td>0</td>\n",
       "      <td>True</td>\n",
       "      <td>True</td>\n",
       "      <td>565.837</td>\n",
       "      <td>454.737</td>\n",
       "      <td>1.980</td>\n",
       "      <td>1380.0</td>\n",
       "      <td>1454.0</td>\n",
       "      <td>1440</td>\n",
       "      <td>695_frame1440.png</td>\n",
       "      <td>376</td>\n",
       "      <td>695</td>\n",
       "    </tr>\n",
       "    <tr>\n",
       "      <th>2466</th>\n",
       "      <td>10938</td>\n",
       "      <td>10938</td>\n",
       "      <td>True</td>\n",
       "      <td>False</td>\n",
       "      <td>0</td>\n",
       "      <td>True</td>\n",
       "      <td>True</td>\n",
       "      <td>353.110</td>\n",
       "      <td>389.282</td>\n",
       "      <td>1.484</td>\n",
       "      <td>37.0</td>\n",
       "      <td>1328.0</td>\n",
       "      <td>1163</td>\n",
       "      <td>758_frame1163.png</td>\n",
       "      <td>100</td>\n",
       "      <td>758</td>\n",
       "    </tr>\n",
       "  </tbody>\n",
       "</table>\n",
       "<p>2467 rows × 16 columns</p>\n",
       "</div>"
      ],
      "text/plain": [
       "      Unnamed: 0  Unnamed: 0.1  exploitable  ...            imgFile  fire_id  fBase\n",
       "0              0             0         True  ...    108_frame14.png       20    108\n",
       "1             10            10         True  ...  110_frame1057.png      171    110\n",
       "2             15            15         True  ...   115_frame862.png       19    115\n",
       "3             20            20         True  ...    118_frame14.png       19    118\n",
       "4             25            25         True  ...   118_frame149.png       19    118\n",
       "...          ...           ...          ...  ...                ...      ...    ...\n",
       "2462       10883         10883         True  ...  635_frame1169.png      346    635\n",
       "2463       10888         10888         True  ...  640_frame1415.png      351    640\n",
       "2464       10903         10903         True  ...    695_frame95.png      376    695\n",
       "2465       10913         10913         True  ...  695_frame1440.png      376    695\n",
       "2466       10938         10938         True  ...  758_frame1163.png      100    758\n",
       "\n",
       "[2467 rows x 16 columns]"
      ]
     },
     "execution_count": 10,
     "metadata": {
      "tags": []
     },
     "output_type": "execute_result"
    }
   ],
   "source": [
    "metadata1=metadata[0:len(metadata):5]\n",
    "metadata2=metadata[3:len(metadata):5]\n",
    "metadata2=metadata2[metadata2['fire']==False]\n",
    "metadata=pd.concat([metadata1,metadata2])\n",
    "metadata.index=np.arange(len(metadata))\n",
    "metadata"
   ]
  },
  {
   "cell_type": "code",
   "execution_count": 0,
   "metadata": {
    "colab": {},
    "colab_type": "code",
    "id": "DuoDvKQPyur3"
   },
   "outputs": [],
   "source": [
    "metadata.loc[metadata['fire']==True,'fire']=1\n",
    "metadata.loc[metadata['fire']==False,'fire']=0"
   ]
  },
  {
   "cell_type": "code",
   "execution_count": 12,
   "metadata": {
    "colab": {
     "base_uri": "https://localhost:8080/",
     "height": 35
    },
    "colab_type": "code",
    "executionInfo": {
     "elapsed": 957,
     "status": "ok",
     "timestamp": 1586784098146,
     "user": {
      "displayName": "Mateo Lostanlen",
      "photoUrl": "https://lh3.googleusercontent.com/a-/AOh14GhiMj9rYp8uTEqohMyR6BMqG5Q7nffxkuE6YdGF6A=s64",
      "userId": "07227433961920464350"
     },
     "user_tz": -120
    },
    "id": "0Uwe_edHyur7",
    "outputId": "b26d6646-e6eb-40ff-8ba8-0afcdd4428c4"
   },
   "outputs": [
    {
     "data": {
      "text/plain": [
       "0.9911218724778047"
      ]
     },
     "execution_count": 12,
     "metadata": {
      "tags": []
     },
     "output_type": "execute_result"
    }
   ],
   "source": [
    "ratio=len(metadata[metadata['fire']==1])/len(metadata[metadata['fire']==0])\n",
    "ratio"
   ]
  },
  {
   "cell_type": "code",
   "execution_count": 0,
   "metadata": {
    "colab": {},
    "colab_type": "code",
    "id": "qi0IpQ6HyusA"
   },
   "outputs": [],
   "source": [
    "normalize = transforms.Normalize(mean=[0.485, 0.456, 0.406],std=[0.229, 0.224, 0.225])\n",
    "\n",
    "train_transforms = transforms.Compose([\n",
    "    transforms.RandomResizedCrop((224,224)),\n",
    "    transforms.RandomHorizontalFlip(),\n",
    "    transforms.RandomRotation(10),\n",
    "    transforms.ToTensor(),\n",
    "    normalize\n",
    "])\n",
    "\n",
    "test_transforms = transforms.Compose([\n",
    "    transforms.Resize((224,224)),\n",
    "    transforms.ToTensor(),\n",
    "    normalize\n",
    "])\n",
    "\n",
    "val_transforms = transforms.Compose([\n",
    "    transforms.Resize((224,224)),\n",
    "    transforms.ToTensor(),\n",
    "   normalize\n",
    "])\n",
    "\n",
    "tf={'train':train_transforms,'test':train_transforms,'val':train_transforms}"
   ]
  },
  {
   "cell_type": "code",
   "execution_count": 0,
   "metadata": {
    "colab": {},
    "colab_type": "code",
    "id": "LJjH1wfVyusE"
   },
   "outputs": [],
   "source": [
    "wildfire = WildFireDataset(metadata=metadata,path_to_frames=path_to_frames,target_names=['fire'])"
   ]
  },
  {
   "cell_type": "code",
   "execution_count": 15,
   "metadata": {
    "colab": {
     "base_uri": "https://localhost:8080/",
     "height": 107
    },
    "colab_type": "code",
    "executionInfo": {
     "elapsed": 1756,
     "status": "ok",
     "timestamp": 1586784104658,
     "user": {
      "displayName": "Mateo Lostanlen",
      "photoUrl": "https://lh3.googleusercontent.com/a-/AOh14GhiMj9rYp8uTEqohMyR6BMqG5Q7nffxkuE6YdGF6A=s64",
      "userId": "07227433961920464350"
     },
     "user_tz": -120
    },
    "id": "Y5FcijHCyusI",
    "outputId": "a548f0b3-8ba3-4230-c80b-ab85d23adab1"
   },
   "outputs": [
    {
     "name": "stdout",
     "output_type": "stream",
     "text": [
      "{'train': 1941, 'val': 515, 'test': 11}\n"
     ]
    },
    {
     "name": "stderr",
     "output_type": "stream",
     "text": [
      "/content/drive/My Drive/DeepLearning/Pyronear/git/PyroNear/pyronear/datasets/wildfire/wildfire.py:162: Warning: Inconsistent Fire Labeling. Maybe try to label the fire again\n",
      "Distinct values of ids(304 ≠ 420)\n",
      "  f\" ≠ {wildfire.metadata['fire_id'].max() + 1})\", Warning)\n"
     ]
    }
   ],
   "source": [
    "ratios = {'train': 0.78, 'val': 0.2, 'test':0.02}\n",
    "\n",
    "splitter =  WildFireSplitter(ratios, transforms=tf)\n",
    "splitter.fit(wildfire)\n",
    "print(splitter.n_samples_)\n",
    "\n",
    "train_loader = DataLoader(splitter.train, batch_size=64, shuffle=True)\n",
    "val_loader = DataLoader(splitter.val, batch_size=64, shuffle=True)\n",
    "test_loader= DataLoader(splitter.test, batch_size=64, shuffle=True)"
   ]
  },
  {
   "cell_type": "code",
   "execution_count": 0,
   "metadata": {
    "colab": {},
    "colab_type": "code",
    "id": "er-yiUXmyusL"
   },
   "outputs": [],
   "source": [
    "def set_seed(seed):\n",
    "    \"\"\"Set the seed for pseudo-random number generations\n",
    "    Args:\n",
    "        seed (int): seed to set for reproducibility\n",
    "    \"\"\"\n",
    "\n",
    "    random.seed(seed)\n",
    "    os.environ['PYTHONHASHSEED'] = str(seed)\n",
    "    np.random.seed(seed)\n",
    "    torch.manual_seed(seed)\n",
    "    torch.cuda.manual_seed(seed)\n",
    "    torch.cuda.manual_seed_all(seed)  # if you are using multi-GPU.\n",
    "    torch.backends.cudnn.benchmark = False\n",
    "    torch.backends.cudnn.deterministic = True\n",
    "\n",
    "\n",
    "def train_batch(model, x, target, optimizer, criterion):\n",
    "    \"\"\"Train a model for one iteration\n",
    "    Args:\n",
    "        model (torch.nn.Module): model to train\n",
    "        loader_iter (iter(torch.utils.data.DataLoader)): training dataloader iterator\n",
    "        optimizer (torch.optim.Optimizer): parameter optimizer\n",
    "        criterion (torch.nn.Module): criterion object\n",
    "    Returns:\n",
    "        batch_loss (float): training loss\n",
    "    \"\"\"\n",
    "\n",
    "    # Forward\n",
    "    outputs = model(x)\n",
    "\n",
    "    # Loss computation\n",
    "    batch_loss = criterion(outputs, target)\n",
    "\n",
    "    # Backprop\n",
    "    optimizer.zero_grad()\n",
    "    batch_loss.backward()\n",
    "    optimizer.step()\n",
    "\n",
    "    return batch_loss.item()\n",
    "\n",
    "\n",
    "def train_epoch(model, train_loader, optimizer, criterion, master_bar,\n",
    "                epoch=0, scheduler=None, device='cpu'):\n",
    "    \"\"\"Train a model for one epoch\n",
    "    Args:\n",
    "        model (torch.nn.Module): model to train\n",
    "        train_loader (torch.utils.data.DataLoader): training dataloader\n",
    "        optimizer (torch.optim.Optimizer): parameter optimizer\n",
    "        criterion (torch.nn.Module): criterion object\n",
    "        master_bar (fastprogress.MasterBar): master bar of training progress\n",
    "        epoch (int): current epoch index\n",
    "        scheduler (torch.optim._LRScheduler, optional): learning rate scheduler\n",
    "        device (str): device hosting tensor data\n",
    "    Returns:\n",
    "        batch_loss (float): latch batch loss\n",
    "    \"\"\"\n",
    "\n",
    "    # Training\n",
    "    model.train()\n",
    "    loader_iter = iter(train_loader)\n",
    "    train_loss = 0\n",
    "    for _ in progress_bar(range(len(train_loader)), parent=master_bar):\n",
    "\n",
    "        x, target = next(loader_iter)\n",
    "        x, target = x.cuda(), target.type(torch.LongTensor).squeeze().cuda()\n",
    "\n",
    "        batch_loss = train_batch(model, x, target, optimizer, criterion)\n",
    "        train_loss += batch_loss\n",
    "        if scheduler:\n",
    "            scheduler.step()\n",
    "\n",
    "        master_bar.child.comment = f\"Batch loss: {batch_loss:.4}\"\n",
    "\n",
    "    train_loss /= len(train_loader)\n",
    "\n",
    "    return train_loss\n",
    "\n",
    "\n",
    "def evaluate(model, test_loader, criterion, device='cpu'):\n",
    "    \"\"\"Evaluation a model on a dataloader\n",
    "    Args:\n",
    "        model (torch.nn.Module): model to train\n",
    "        train_loader (torch.utils.data.DataLoader): validation dataloader\n",
    "        criterion (torch.nn.Module): criterion object\n",
    "        device (str): device hosting tensor data\n",
    "    Returns:\n",
    "        val_loss (float): validation loss\n",
    "        acc (float): top1 accuracy\n",
    "    \"\"\"\n",
    "    model.eval()\n",
    "    val_loss, correct, targets = 0, 0, 0\n",
    "    with torch.no_grad():\n",
    "        for x, target in test_loader:\n",
    "            # Work with tensors on GPU\n",
    "            #if device.startswith('cuda'):\n",
    "            x, target = x.cuda(), target.type(torch.LongTensor).squeeze().cuda()\n",
    "\n",
    "            # Forward + Backward & optimize\n",
    "            outputs = model.forward(x)\n",
    "            val_loss += criterion(outputs, target).item()\n",
    "            # Index of max log-probability\n",
    "            pred = outputs.max(1, keepdim=True)[1]\n",
    "            correct += pred.eq(target.view_as(pred)).sum().item()\n",
    "            targets += x.size(0)\n",
    "    val_loss /= len(test_loader)\n",
    "    acc = correct / targets\n",
    "\n",
    "    return val_loss, acc"
   ]
  },
  {
   "cell_type": "code",
   "execution_count": 0,
   "metadata": {
    "colab": {},
    "colab_type": "code",
    "id": "1DIy3kwJyusN"
   },
   "outputs": [],
   "source": [
    "BATCH_SIZE=32\n",
    "device = torch.device(\"cuda:0\" if torch.cuda.is_available() else \"cpu\")"
   ]
  },
  {
   "cell_type": "code",
   "execution_count": 18,
   "metadata": {
    "colab": {
     "base_uri": "https://localhost:8080/",
     "height": 84,
     "referenced_widgets": [
      "388794fc358a4f4593e6674ca9fbbd20",
      "ee83dcc9af164f209ac9feb2badc8344",
      "5acce706f2304dd4be7094b419bc6e4e",
      "bd768e607b844768a9dfd48c29626f4f",
      "51d34dc57e3b469890c0ebfc3c2b7024",
      "3bcf47f9c9244aa0afdf7ecf2f5715cc",
      "012f29fb979b4d4a91cdacf8fd93c26a",
      "7b49a3f1ddf64265bfdf14ae9a8178be"
     ]
    },
    "colab_type": "code",
    "executionInfo": {
     "elapsed": 1670,
     "status": "ok",
     "timestamp": 1586784111185,
     "user": {
      "displayName": "Mateo Lostanlen",
      "photoUrl": "https://lh3.googleusercontent.com/a-/AOh14GhiMj9rYp8uTEqohMyR6BMqG5Q7nffxkuE6YdGF6A=s64",
      "userId": "07227433961920464350"
     },
     "user_tz": -120
    },
    "id": "NpzwxJl3yusQ",
    "outputId": "78643f62-1d79-4223-aae8-ca3fe00c2403"
   },
   "outputs": [
    {
     "name": "stderr",
     "output_type": "stream",
     "text": [
      "Downloading: \"https://download.pytorch.org/models/resnet18-5c106cde.pth\" to /root/.cache/torch/checkpoints/resnet18-5c106cde.pth\n"
     ]
    },
    {
     "data": {
      "application/vnd.jupyter.widget-view+json": {
       "model_id": "388794fc358a4f4593e6674ca9fbbd20",
       "version_major": 2,
       "version_minor": 0
      },
      "text/plain": [
       "HBox(children=(IntProgress(value=0, max=46827520), HTML(value='')))"
      ]
     },
     "metadata": {
      "tags": []
     },
     "output_type": "display_data"
    },
    {
     "name": "stdout",
     "output_type": "stream",
     "text": [
      "\n"
     ]
    }
   ],
   "source": [
    "# Model definition\n",
    "model = torchvision.models.resnet18(pretrained=True)\n",
    "\n",
    "# Change fc\n",
    "in_features = getattr(model, 'fc').in_features\n",
    "setattr(model, 'fc', nn.Linear(in_features, 2))\n",
    "  "
   ]
  },
  {
   "cell_type": "code",
   "execution_count": 0,
   "metadata": {
    "colab": {},
    "colab_type": "code",
    "id": "Sig3_r8byusU"
   },
   "outputs": [],
   "source": [
    "model = model.to(device)"
   ]
  },
  {
   "cell_type": "code",
   "execution_count": 0,
   "metadata": {
    "colab": {},
    "colab_type": "code",
    "id": "-zR2DUvayusY"
   },
   "outputs": [],
   "source": []
  },
  {
   "cell_type": "code",
   "execution_count": 0,
   "metadata": {
    "colab": {},
    "colab_type": "code",
    "id": "NHxG0SJvyusb"
   },
   "outputs": [],
   "source": [
    "epochs=10\n",
    "\n",
    "lr=0.001\n",
    "weight_decay=0.001\n",
    "\n",
    "# optimizer\n",
    "\n",
    "optimizer = optim.Adam(model.parameters(),\n",
    "                       betas=(0.9, 0.99),\n",
    "                       weight_decay=weight_decay)\n",
    "\n",
    "# Loss function\n",
    "#criterion = nn.BCELoss()\n",
    "criterion = nn.CrossEntropyLoss()\n",
    "\n",
    "# Scheduler\n",
    "lr_scheduler = OneCycleLR(optimizer, max_lr=lr,epochs=epochs, steps_per_epoch=len(train_loader),cycle_momentum=(not isinstance(optimizer, optim.Adam)))\n"
   ]
  },
  {
   "cell_type": "code",
   "execution_count": 21,
   "metadata": {
    "colab": {
     "base_uri": "https://localhost:8080/",
     "height": 337
    },
    "colab_type": "code",
    "executionInfo": {
     "elapsed": 1801917,
     "status": "ok",
     "timestamp": 1586785915493,
     "user": {
      "displayName": "Mateo Lostanlen",
      "photoUrl": "https://lh3.googleusercontent.com/a-/AOh14GhiMj9rYp8uTEqohMyR6BMqG5Q7nffxkuE6YdGF6A=s64",
      "userId": "07227433961920464350"
     },
     "user_tz": -120
    },
    "id": "OFQDDnLSyusd",
    "outputId": "8bc7e3f0-93ae-4a30-dc6c-f7532d3759d4"
   },
   "outputs": [
    {
     "data": {
      "text/html": [
       "Epoch 1/10 - Training loss: 0.5635 | Validation loss: 0.6783 | Error rate: 0.2777<p>Epoch 2/10 - Training loss: 0.5339 | Validation loss: 0.7049 | Error rate: 0.3223<p>Epoch 3/10 - Training loss: 0.5557 | Validation loss: 0.6348 | Error rate: 0.2816<p>Epoch 4/10 - Training loss: 0.4924 | Validation loss: 0.5223 | Error rate: 0.235<p>Epoch 5/10 - Training loss: 0.4772 | Validation loss: 0.5159 | Error rate: 0.2505<p>Epoch 6/10 - Training loss: 0.4483 | Validation loss: 0.5475 | Error rate: 0.2971<p>Epoch 7/10 - Training loss: 0.4341 | Validation loss: 0.5661 | Error rate: 0.2757<p>Epoch 8/10 - Training loss: 0.3996 | Validation loss: 0.4356 | Error rate: 0.2214<p>Epoch 9/10 - Training loss: 0.3716 | Validation loss: 0.4498 | Error rate: 0.233<p>Epoch 10/10 - Training loss: 0.329 | Validation loss: 0.5247 | Error rate: 0.2272"
      ],
      "text/plain": [
       "<IPython.core.display.HTML object>"
      ]
     },
     "metadata": {
      "tags": []
     },
     "output_type": "display_data"
    },
    {
     "name": "stdout",
     "output_type": "stream",
     "text": [
      "Validation loss decreased inf --> 0.6783: saving state...\n",
      "Validation loss decreased 0.6783 --> 0.6348: saving state...\n",
      "Validation loss decreased 0.6348 --> 0.5223: saving state...\n",
      "Validation loss decreased 0.5223 --> 0.5159: saving state...\n",
      "Validation loss decreased 0.5159 --> 0.4356: saving state...\n"
     ]
    }
   ],
   "source": [
    "best_loss = math.inf\n",
    "mb = master_bar(range(epochs))\n",
    "for epoch_idx in mb:\n",
    "    # Training\n",
    "    # dsTrain.computeSubSet(BATCH_SIZE,dfTrain)\n",
    "    # train_loader  = data.DataLoader(dsTrain, batch_size=K*BATCH_SIZE, shuffle=False) \n",
    "\n",
    "    train_loss=train_epoch(model, train_loader, optimizer, criterion, master_bar=mb, epoch=epoch_idx, scheduler=lr_scheduler, device=device)\n",
    "\n",
    "    # Evaluation\n",
    "    val_loss, acc = evaluate(model, val_loader, criterion, device=device)\n",
    "\n",
    "    mb.comment = f\"Epoch {epoch_idx+1}/{epochs}\"\n",
    "    mb.write(f'Epoch {epoch_idx+1}/{epochs} - Training loss: {train_loss:.4} | Validation loss: {val_loss:.4} | Error rate: {1 - acc:.4}')\n",
    "\n",
    "    # State saving\n",
    "    if val_loss < best_loss:\n",
    "        print(f\"Validation loss decreased {best_loss:.4} --> {val_loss:.4}: saving state...\")\n",
    "        best_loss = val_loss\n",
    "      "
   ]
  },
  {
   "cell_type": "code",
   "execution_count": 0,
   "metadata": {
    "colab": {},
    "colab_type": "code",
    "id": "Lxemjaupyusg"
   },
   "outputs": [],
   "source": []
  },
  {
   "cell_type": "code",
   "execution_count": 0,
   "metadata": {
    "colab": {},
    "colab_type": "code",
    "id": "pYX-h80Oyusj"
   },
   "outputs": [],
   "source": [
    "for x, target in train_loader:\n",
    "  x, target = x.cuda(), target.type(torch.LongTensor).squeeze().cuda()\n",
    "\n",
    "  # Forward\n",
    "  outputs = model(x)\n",
    "\n",
    "  # Loss computation\n",
    "  batch_loss = criterion(outputs, target)\n",
    "  break"
   ]
  },
  {
   "cell_type": "code",
   "execution_count": 32,
   "metadata": {
    "colab": {
     "base_uri": "https://localhost:8080/",
     "height": 35
    },
    "colab_type": "code",
    "executionInfo": {
     "elapsed": 882,
     "status": "ok",
     "timestamp": 1586770075720,
     "user": {
      "displayName": "Mateo Lostanlen",
      "photoUrl": "https://lh3.googleusercontent.com/a-/AOh14GhiMj9rYp8uTEqohMyR6BMqG5Q7nffxkuE6YdGF6A=s64",
      "userId": "07227433961920464350"
     },
     "user_tz": -120
    },
    "id": "P0_UW5Jj3bYj",
    "outputId": "41a2917c-beb8-4da4-bdab-fde4c3db97c5"
   },
   "outputs": [
    {
     "data": {
      "text/plain": [
       "tensor(0.6990, device='cuda:0', grad_fn=<NllLossBackward>)"
      ]
     },
     "execution_count": 32,
     "metadata": {
      "tags": []
     },
     "output_type": "execute_result"
    }
   ],
   "source": []
  },
  {
   "cell_type": "code",
   "execution_count": 30,
   "metadata": {
    "colab": {
     "base_uri": "https://localhost:8080/",
     "height": 35
    },
    "colab_type": "code",
    "executionInfo": {
     "elapsed": 600,
     "status": "ok",
     "timestamp": 1586769962271,
     "user": {
      "displayName": "Mateo Lostanlen",
      "photoUrl": "https://lh3.googleusercontent.com/a-/AOh14GhiMj9rYp8uTEqohMyR6BMqG5Q7nffxkuE6YdGF6A=s64",
      "userId": "07227433961920464350"
     },
     "user_tz": -120
    },
    "id": "GjmntOHc2x1_",
    "outputId": "2ac314a7-1578-48f2-90e1-337e354bc6d5"
   },
   "outputs": [
    {
     "name": "stdout",
     "output_type": "stream",
     "text": [
      "torch.Size([64, 2]) torch.Size([64, 1])\n"
     ]
    }
   ],
   "source": []
  },
  {
   "cell_type": "code",
   "execution_count": 24,
   "metadata": {
    "colab": {
     "base_uri": "https://localhost:8080/",
     "height": 1000
    },
    "colab_type": "code",
    "executionInfo": {
     "elapsed": 630,
     "status": "ok",
     "timestamp": 1586769670828,
     "user": {
      "displayName": "Mateo Lostanlen",
      "photoUrl": "https://lh3.googleusercontent.com/a-/AOh14GhiMj9rYp8uTEqohMyR6BMqG5Q7nffxkuE6YdGF6A=s64",
      "userId": "07227433961920464350"
     },
     "user_tz": -120
    },
    "id": "hIbz61wG1Sml",
    "outputId": "067feef6-4e51-44c9-b4b6-463593cc1d7c"
   },
   "outputs": [
    {
     "data": {
      "text/plain": [
       "tensor([[0],\n",
       "        [0],\n",
       "        [0],\n",
       "        [1],\n",
       "        [1],\n",
       "        [1],\n",
       "        [0],\n",
       "        [1],\n",
       "        [0],\n",
       "        [1],\n",
       "        [1],\n",
       "        [1],\n",
       "        [0],\n",
       "        [1],\n",
       "        [1],\n",
       "        [0],\n",
       "        [1],\n",
       "        [0],\n",
       "        [1],\n",
       "        [1],\n",
       "        [0],\n",
       "        [1],\n",
       "        [0],\n",
       "        [1],\n",
       "        [0],\n",
       "        [0],\n",
       "        [1],\n",
       "        [0],\n",
       "        [0],\n",
       "        [1],\n",
       "        [1],\n",
       "        [1],\n",
       "        [1],\n",
       "        [0],\n",
       "        [1],\n",
       "        [1],\n",
       "        [1],\n",
       "        [1],\n",
       "        [1],\n",
       "        [0],\n",
       "        [0],\n",
       "        [0],\n",
       "        [0],\n",
       "        [0],\n",
       "        [1],\n",
       "        [0],\n",
       "        [0],\n",
       "        [0],\n",
       "        [0],\n",
       "        [0],\n",
       "        [0],\n",
       "        [0],\n",
       "        [0],\n",
       "        [0],\n",
       "        [1],\n",
       "        [0],\n",
       "        [0],\n",
       "        [0],\n",
       "        [1],\n",
       "        [1],\n",
       "        [1],\n",
       "        [1],\n",
       "        [1],\n",
       "        [1]])"
      ]
     },
     "execution_count": 24,
     "metadata": {
      "tags": []
     },
     "output_type": "execute_result"
    }
   ],
   "source": []
  },
  {
   "cell_type": "code",
   "execution_count": 0,
   "metadata": {
    "colab": {},
    "colab_type": "code",
    "id": "ahmAK61O1bY5"
   },
   "outputs": [],
   "source": []
  }
 ],
 "metadata": {
  "accelerator": "GPU",
  "colab": {
   "collapsed_sections": [],
   "name": "TrainWildFire.ipynb",
   "provenance": []
  },
  "kernelspec": {
   "display_name": "Python 3",
   "language": "python",
   "name": "python3"
  },
  "language_info": {
   "codemirror_mode": {
    "name": "ipython",
    "version": 3
   },
   "file_extension": ".py",
   "mimetype": "text/x-python",
   "name": "python",
   "nbconvert_exporter": "python",
   "pygments_lexer": "ipython3",
   "version": "3.7.6"
  },
  "widgets": {
   "application/vnd.jupyter.widget-state+json": {
    "012f29fb979b4d4a91cdacf8fd93c26a": {
     "model_module": "@jupyter-widgets/controls",
     "model_name": "DescriptionStyleModel",
     "state": {
      "_model_module": "@jupyter-widgets/controls",
      "_model_module_version": "1.5.0",
      "_model_name": "DescriptionStyleModel",
      "_view_count": null,
      "_view_module": "@jupyter-widgets/base",
      "_view_module_version": "1.2.0",
      "_view_name": "StyleView",
      "description_width": ""
     }
    },
    "388794fc358a4f4593e6674ca9fbbd20": {
     "model_module": "@jupyter-widgets/controls",
     "model_name": "HBoxModel",
     "state": {
      "_dom_classes": [],
      "_model_module": "@jupyter-widgets/controls",
      "_model_module_version": "1.5.0",
      "_model_name": "HBoxModel",
      "_view_count": null,
      "_view_module": "@jupyter-widgets/controls",
      "_view_module_version": "1.5.0",
      "_view_name": "HBoxView",
      "box_style": "",
      "children": [
       "IPY_MODEL_5acce706f2304dd4be7094b419bc6e4e",
       "IPY_MODEL_bd768e607b844768a9dfd48c29626f4f"
      ],
      "layout": "IPY_MODEL_ee83dcc9af164f209ac9feb2badc8344"
     }
    },
    "3bcf47f9c9244aa0afdf7ecf2f5715cc": {
     "model_module": "@jupyter-widgets/base",
     "model_name": "LayoutModel",
     "state": {
      "_model_module": "@jupyter-widgets/base",
      "_model_module_version": "1.2.0",
      "_model_name": "LayoutModel",
      "_view_count": null,
      "_view_module": "@jupyter-widgets/base",
      "_view_module_version": "1.2.0",
      "_view_name": "LayoutView",
      "align_content": null,
      "align_items": null,
      "align_self": null,
      "border": null,
      "bottom": null,
      "display": null,
      "flex": null,
      "flex_flow": null,
      "grid_area": null,
      "grid_auto_columns": null,
      "grid_auto_flow": null,
      "grid_auto_rows": null,
      "grid_column": null,
      "grid_gap": null,
      "grid_row": null,
      "grid_template_areas": null,
      "grid_template_columns": null,
      "grid_template_rows": null,
      "height": null,
      "justify_content": null,
      "justify_items": null,
      "left": null,
      "margin": null,
      "max_height": null,
      "max_width": null,
      "min_height": null,
      "min_width": null,
      "object_fit": null,
      "object_position": null,
      "order": null,
      "overflow": null,
      "overflow_x": null,
      "overflow_y": null,
      "padding": null,
      "right": null,
      "top": null,
      "visibility": null,
      "width": null
     }
    },
    "51d34dc57e3b469890c0ebfc3c2b7024": {
     "model_module": "@jupyter-widgets/controls",
     "model_name": "ProgressStyleModel",
     "state": {
      "_model_module": "@jupyter-widgets/controls",
      "_model_module_version": "1.5.0",
      "_model_name": "ProgressStyleModel",
      "_view_count": null,
      "_view_module": "@jupyter-widgets/base",
      "_view_module_version": "1.2.0",
      "_view_name": "StyleView",
      "bar_color": null,
      "description_width": "initial"
     }
    },
    "5acce706f2304dd4be7094b419bc6e4e": {
     "model_module": "@jupyter-widgets/controls",
     "model_name": "IntProgressModel",
     "state": {
      "_dom_classes": [],
      "_model_module": "@jupyter-widgets/controls",
      "_model_module_version": "1.5.0",
      "_model_name": "IntProgressModel",
      "_view_count": null,
      "_view_module": "@jupyter-widgets/controls",
      "_view_module_version": "1.5.0",
      "_view_name": "ProgressView",
      "bar_style": "success",
      "description": "100%",
      "description_tooltip": null,
      "layout": "IPY_MODEL_3bcf47f9c9244aa0afdf7ecf2f5715cc",
      "max": 46827520,
      "min": 0,
      "orientation": "horizontal",
      "style": "IPY_MODEL_51d34dc57e3b469890c0ebfc3c2b7024",
      "value": 46827520
     }
    },
    "7b49a3f1ddf64265bfdf14ae9a8178be": {
     "model_module": "@jupyter-widgets/base",
     "model_name": "LayoutModel",
     "state": {
      "_model_module": "@jupyter-widgets/base",
      "_model_module_version": "1.2.0",
      "_model_name": "LayoutModel",
      "_view_count": null,
      "_view_module": "@jupyter-widgets/base",
      "_view_module_version": "1.2.0",
      "_view_name": "LayoutView",
      "align_content": null,
      "align_items": null,
      "align_self": null,
      "border": null,
      "bottom": null,
      "display": null,
      "flex": null,
      "flex_flow": null,
      "grid_area": null,
      "grid_auto_columns": null,
      "grid_auto_flow": null,
      "grid_auto_rows": null,
      "grid_column": null,
      "grid_gap": null,
      "grid_row": null,
      "grid_template_areas": null,
      "grid_template_columns": null,
      "grid_template_rows": null,
      "height": null,
      "justify_content": null,
      "justify_items": null,
      "left": null,
      "margin": null,
      "max_height": null,
      "max_width": null,
      "min_height": null,
      "min_width": null,
      "object_fit": null,
      "object_position": null,
      "order": null,
      "overflow": null,
      "overflow_x": null,
      "overflow_y": null,
      "padding": null,
      "right": null,
      "top": null,
      "visibility": null,
      "width": null
     }
    },
    "bd768e607b844768a9dfd48c29626f4f": {
     "model_module": "@jupyter-widgets/controls",
     "model_name": "HTMLModel",
     "state": {
      "_dom_classes": [],
      "_model_module": "@jupyter-widgets/controls",
      "_model_module_version": "1.5.0",
      "_model_name": "HTMLModel",
      "_view_count": null,
      "_view_module": "@jupyter-widgets/controls",
      "_view_module_version": "1.5.0",
      "_view_name": "HTMLView",
      "description": "",
      "description_tooltip": null,
      "layout": "IPY_MODEL_7b49a3f1ddf64265bfdf14ae9a8178be",
      "placeholder": "​",
      "style": "IPY_MODEL_012f29fb979b4d4a91cdacf8fd93c26a",
      "value": " 44.7M/44.7M [00:10&lt;00:00, 4.58MB/s]"
     }
    },
    "ee83dcc9af164f209ac9feb2badc8344": {
     "model_module": "@jupyter-widgets/base",
     "model_name": "LayoutModel",
     "state": {
      "_model_module": "@jupyter-widgets/base",
      "_model_module_version": "1.2.0",
      "_model_name": "LayoutModel",
      "_view_count": null,
      "_view_module": "@jupyter-widgets/base",
      "_view_module_version": "1.2.0",
      "_view_name": "LayoutView",
      "align_content": null,
      "align_items": null,
      "align_self": null,
      "border": null,
      "bottom": null,
      "display": null,
      "flex": null,
      "flex_flow": null,
      "grid_area": null,
      "grid_auto_columns": null,
      "grid_auto_flow": null,
      "grid_auto_rows": null,
      "grid_column": null,
      "grid_gap": null,
      "grid_row": null,
      "grid_template_areas": null,
      "grid_template_columns": null,
      "grid_template_rows": null,
      "height": null,
      "justify_content": null,
      "justify_items": null,
      "left": null,
      "margin": null,
      "max_height": null,
      "max_width": null,
      "min_height": null,
      "min_width": null,
      "object_fit": null,
      "object_position": null,
      "order": null,
      "overflow": null,
      "overflow_x": null,
      "overflow_y": null,
      "padding": null,
      "right": null,
      "top": null,
      "visibility": null,
      "width": null
     }
    }
   }
  }
 },
 "nbformat": 4,
 "nbformat_minor": 1
}
